{
 "cells": [
  {
   "cell_type": "code",
   "execution_count": 1,
   "id": "c1891dca",
   "metadata": {
    "_cell_guid": "b1076dfc-b9ad-4769-8c92-a6c4dae69d19",
    "_uuid": "8f2839f25d086af736a60e9eeb907d3b93b6e0e5",
    "execution": {
     "iopub.execute_input": "2024-02-16T20:57:56.541641Z",
     "iopub.status.busy": "2024-02-16T20:57:56.541065Z",
     "iopub.status.idle": "2024-02-16T20:58:14.292769Z",
     "shell.execute_reply": "2024-02-16T20:58:14.291278Z"
    },
    "papermill": {
     "duration": 17.770188,
     "end_time": "2024-02-16T20:58:14.296301",
     "exception": false,
     "start_time": "2024-02-16T20:57:56.526113",
     "status": "completed"
    },
    "tags": []
   },
   "outputs": [],
   "source": [
    "import numpy as np\n",
    "import pandas as pd\n",
    "\n",
    "from tensorflow.keras.models import Sequential\n",
    "from tensorflow.keras.layers import Dense\n",
    "from tensorflow.keras.callbacks import EarlyStopping\n",
    "\n",
    "import pickle"
   ]
  },
  {
   "cell_type": "code",
   "execution_count": 2,
   "id": "edc9227e",
   "metadata": {
    "execution": {
     "iopub.execute_input": "2024-02-16T20:58:14.322665Z",
     "iopub.status.busy": "2024-02-16T20:58:14.321737Z",
     "iopub.status.idle": "2024-02-16T20:58:14.462051Z",
     "shell.execute_reply": "2024-02-16T20:58:14.460626Z"
    },
    "papermill": {
     "duration": 0.156935,
     "end_time": "2024-02-16T20:58:14.465376",
     "exception": false,
     "start_time": "2024-02-16T20:58:14.308441",
     "status": "completed"
    },
    "tags": []
   },
   "outputs": [],
   "source": [
    "train_df = pd.read_csv('/kaggle/input/disease-prediction-using-machine-learning/Training.csv')\n",
    "test_df = pd.read_csv('/kaggle/input/disease-prediction-using-machine-learning/Testing.csv')"
   ]
  },
  {
   "cell_type": "code",
   "execution_count": 3,
   "id": "b493719a",
   "metadata": {
    "execution": {
     "iopub.execute_input": "2024-02-16T20:58:14.491026Z",
     "iopub.status.busy": "2024-02-16T20:58:14.490436Z",
     "iopub.status.idle": "2024-02-16T20:58:14.532157Z",
     "shell.execute_reply": "2024-02-16T20:58:14.530804Z"
    },
    "papermill": {
     "duration": 0.057841,
     "end_time": "2024-02-16T20:58:14.535035",
     "exception": false,
     "start_time": "2024-02-16T20:58:14.477194",
     "status": "completed"
    },
    "tags": []
   },
   "outputs": [
    {
     "data": {
      "text/html": [
       "<div>\n",
       "<style scoped>\n",
       "    .dataframe tbody tr th:only-of-type {\n",
       "        vertical-align: middle;\n",
       "    }\n",
       "\n",
       "    .dataframe tbody tr th {\n",
       "        vertical-align: top;\n",
       "    }\n",
       "\n",
       "    .dataframe thead th {\n",
       "        text-align: right;\n",
       "    }\n",
       "</style>\n",
       "<table border=\"1\" class=\"dataframe\">\n",
       "  <thead>\n",
       "    <tr style=\"text-align: right;\">\n",
       "      <th></th>\n",
       "      <th>itching</th>\n",
       "      <th>skin_rash</th>\n",
       "      <th>nodal_skin_eruptions</th>\n",
       "      <th>continuous_sneezing</th>\n",
       "      <th>shivering</th>\n",
       "      <th>chills</th>\n",
       "      <th>joint_pain</th>\n",
       "      <th>stomach_pain</th>\n",
       "      <th>acidity</th>\n",
       "      <th>ulcers_on_tongue</th>\n",
       "      <th>...</th>\n",
       "      <th>scurring</th>\n",
       "      <th>skin_peeling</th>\n",
       "      <th>silver_like_dusting</th>\n",
       "      <th>small_dents_in_nails</th>\n",
       "      <th>inflammatory_nails</th>\n",
       "      <th>blister</th>\n",
       "      <th>red_sore_around_nose</th>\n",
       "      <th>yellow_crust_ooze</th>\n",
       "      <th>prognosis</th>\n",
       "      <th>Unnamed: 133</th>\n",
       "    </tr>\n",
       "  </thead>\n",
       "  <tbody>\n",
       "    <tr>\n",
       "      <th>0</th>\n",
       "      <td>1</td>\n",
       "      <td>1</td>\n",
       "      <td>1</td>\n",
       "      <td>0</td>\n",
       "      <td>0</td>\n",
       "      <td>0</td>\n",
       "      <td>0</td>\n",
       "      <td>0</td>\n",
       "      <td>0</td>\n",
       "      <td>0</td>\n",
       "      <td>...</td>\n",
       "      <td>0</td>\n",
       "      <td>0</td>\n",
       "      <td>0</td>\n",
       "      <td>0</td>\n",
       "      <td>0</td>\n",
       "      <td>0</td>\n",
       "      <td>0</td>\n",
       "      <td>0</td>\n",
       "      <td>Fungal infection</td>\n",
       "      <td>NaN</td>\n",
       "    </tr>\n",
       "    <tr>\n",
       "      <th>1</th>\n",
       "      <td>0</td>\n",
       "      <td>1</td>\n",
       "      <td>1</td>\n",
       "      <td>0</td>\n",
       "      <td>0</td>\n",
       "      <td>0</td>\n",
       "      <td>0</td>\n",
       "      <td>0</td>\n",
       "      <td>0</td>\n",
       "      <td>0</td>\n",
       "      <td>...</td>\n",
       "      <td>0</td>\n",
       "      <td>0</td>\n",
       "      <td>0</td>\n",
       "      <td>0</td>\n",
       "      <td>0</td>\n",
       "      <td>0</td>\n",
       "      <td>0</td>\n",
       "      <td>0</td>\n",
       "      <td>Fungal infection</td>\n",
       "      <td>NaN</td>\n",
       "    </tr>\n",
       "    <tr>\n",
       "      <th>2</th>\n",
       "      <td>1</td>\n",
       "      <td>0</td>\n",
       "      <td>1</td>\n",
       "      <td>0</td>\n",
       "      <td>0</td>\n",
       "      <td>0</td>\n",
       "      <td>0</td>\n",
       "      <td>0</td>\n",
       "      <td>0</td>\n",
       "      <td>0</td>\n",
       "      <td>...</td>\n",
       "      <td>0</td>\n",
       "      <td>0</td>\n",
       "      <td>0</td>\n",
       "      <td>0</td>\n",
       "      <td>0</td>\n",
       "      <td>0</td>\n",
       "      <td>0</td>\n",
       "      <td>0</td>\n",
       "      <td>Fungal infection</td>\n",
       "      <td>NaN</td>\n",
       "    </tr>\n",
       "    <tr>\n",
       "      <th>3</th>\n",
       "      <td>1</td>\n",
       "      <td>1</td>\n",
       "      <td>0</td>\n",
       "      <td>0</td>\n",
       "      <td>0</td>\n",
       "      <td>0</td>\n",
       "      <td>0</td>\n",
       "      <td>0</td>\n",
       "      <td>0</td>\n",
       "      <td>0</td>\n",
       "      <td>...</td>\n",
       "      <td>0</td>\n",
       "      <td>0</td>\n",
       "      <td>0</td>\n",
       "      <td>0</td>\n",
       "      <td>0</td>\n",
       "      <td>0</td>\n",
       "      <td>0</td>\n",
       "      <td>0</td>\n",
       "      <td>Fungal infection</td>\n",
       "      <td>NaN</td>\n",
       "    </tr>\n",
       "    <tr>\n",
       "      <th>4</th>\n",
       "      <td>1</td>\n",
       "      <td>1</td>\n",
       "      <td>1</td>\n",
       "      <td>0</td>\n",
       "      <td>0</td>\n",
       "      <td>0</td>\n",
       "      <td>0</td>\n",
       "      <td>0</td>\n",
       "      <td>0</td>\n",
       "      <td>0</td>\n",
       "      <td>...</td>\n",
       "      <td>0</td>\n",
       "      <td>0</td>\n",
       "      <td>0</td>\n",
       "      <td>0</td>\n",
       "      <td>0</td>\n",
       "      <td>0</td>\n",
       "      <td>0</td>\n",
       "      <td>0</td>\n",
       "      <td>Fungal infection</td>\n",
       "      <td>NaN</td>\n",
       "    </tr>\n",
       "  </tbody>\n",
       "</table>\n",
       "<p>5 rows × 134 columns</p>\n",
       "</div>"
      ],
      "text/plain": [
       "   itching  skin_rash  nodal_skin_eruptions  continuous_sneezing  shivering  \\\n",
       "0        1          1                     1                    0          0   \n",
       "1        0          1                     1                    0          0   \n",
       "2        1          0                     1                    0          0   \n",
       "3        1          1                     0                    0          0   \n",
       "4        1          1                     1                    0          0   \n",
       "\n",
       "   chills  joint_pain  stomach_pain  acidity  ulcers_on_tongue  ...  scurring  \\\n",
       "0       0           0             0        0                 0  ...         0   \n",
       "1       0           0             0        0                 0  ...         0   \n",
       "2       0           0             0        0                 0  ...         0   \n",
       "3       0           0             0        0                 0  ...         0   \n",
       "4       0           0             0        0                 0  ...         0   \n",
       "\n",
       "   skin_peeling  silver_like_dusting  small_dents_in_nails  \\\n",
       "0             0                    0                     0   \n",
       "1             0                    0                     0   \n",
       "2             0                    0                     0   \n",
       "3             0                    0                     0   \n",
       "4             0                    0                     0   \n",
       "\n",
       "   inflammatory_nails  blister  red_sore_around_nose  yellow_crust_ooze  \\\n",
       "0                   0        0                     0                  0   \n",
       "1                   0        0                     0                  0   \n",
       "2                   0        0                     0                  0   \n",
       "3                   0        0                     0                  0   \n",
       "4                   0        0                     0                  0   \n",
       "\n",
       "          prognosis  Unnamed: 133  \n",
       "0  Fungal infection           NaN  \n",
       "1  Fungal infection           NaN  \n",
       "2  Fungal infection           NaN  \n",
       "3  Fungal infection           NaN  \n",
       "4  Fungal infection           NaN  \n",
       "\n",
       "[5 rows x 134 columns]"
      ]
     },
     "execution_count": 3,
     "metadata": {},
     "output_type": "execute_result"
    }
   ],
   "source": [
    "train_df.head()"
   ]
  },
  {
   "cell_type": "code",
   "execution_count": 4,
   "id": "4fc93979",
   "metadata": {
    "execution": {
     "iopub.execute_input": "2024-02-16T20:58:14.562481Z",
     "iopub.status.busy": "2024-02-16T20:58:14.561924Z",
     "iopub.status.idle": "2024-02-16T20:58:14.571788Z",
     "shell.execute_reply": "2024-02-16T20:58:14.570065Z"
    },
    "papermill": {
     "duration": 0.027092,
     "end_time": "2024-02-16T20:58:14.574574",
     "exception": false,
     "start_time": "2024-02-16T20:58:14.547482",
     "status": "completed"
    },
    "tags": []
   },
   "outputs": [
    {
     "name": "stdout",
     "output_type": "stream",
     "text": [
      "'itching': 0,'skin rash': 1,'nodal skin eruptions': 2,'continuous sneezing': 3,'shivering': 4,'chills': 5,'joint pain': 6,'stomach pain': 7,'acidity': 8,'ulcers on tongue': 9,'muscle wasting': 10,'vomiting': 11,'burning micturition': 12,'spotting  urination': 13,'fatigue': 14,'weight gain': 15,'anxiety': 16,'cold hands and feets': 17,'mood swings': 18,'weight loss': 19,'restlessness': 20,'lethargy': 21,'patches in throat': 22,'irregular sugar level': 23,'cough': 24,'high fever': 25,'sunken eyes': 26,'breathlessness': 27,'sweating': 28,'dehydration': 29,'indigestion': 30,'headache': 31,'yellowish skin': 32,'dark urine': 33,'nausea': 34,'loss of appetite': 35,'pain behind the eyes': 36,'back pain': 37,'constipation': 38,'abdominal pain': 39,'diarrhoea': 40,'mild fever': 41,'yellow urine': 42,'yellowing of eyes': 43,'acute liver failure': 44,'fluid overload': 45,'swelling of stomach': 46,'swelled lymph nodes': 47,'malaise': 48,'blurred and distorted vision': 49,'phlegm': 50,'throat irritation': 51,'redness of eyes': 52,'sinus pressure': 53,'runny nose': 54,'congestion': 55,'chest pain': 56,'weakness in limbs': 57,'fast heart rate': 58,'pain during bowel movements': 59,'pain in anal region': 60,'bloody stool': 61,'irritation in anus': 62,'neck pain': 63,'dizziness': 64,'cramps': 65,'bruising': 66,'obesity': 67,'swollen legs': 68,'swollen blood vessels': 69,'puffy face and eyes': 70,'enlarged thyroid': 71,'brittle nails': 72,'swollen extremeties': 73,'excessive hunger': 74,'extra marital contacts': 75,'drying and tingling lips': 76,'slurred speech': 77,'knee pain': 78,'hip joint pain': 79,'muscle weakness': 80,'stiff neck': 81,'swelling joints': 82,'movement stiffness': 83,'spinning movements': 84,'loss of balance': 85,'unsteadiness': 86,'weakness of one body side': 87,'loss of smell': 88,'bladder discomfort': 89,'foul smell of urine': 90,'continuous feel of urine': 91,'passage of gases': 92,'internal itching': 93,'toxic look (typhos)': 94,'depression': 95,'irritability': 96,'muscle pain': 97,'altered sensorium': 98,'red spots over body': 99,'belly pain': 100,'abnormal menstruation': 101,'dischromic  patches': 102,'watering from eyes': 103,'increased appetite': 104,'polyuria': 105,'family history': 106,'mucoid sputum': 107,'rusty sputum': 108,'lack of concentration': 109,'visual disturbances': 110,'receiving blood transfusion': 111,'receiving unsterile injections': 112,'coma': 113,'stomach bleeding': 114,'distention of abdomen': 115,'history of alcohol consumption': 116,'fluid overload.1': 117,'blood in sputum': 118,'prominent veins on calf': 119,'palpitations': 120,'painful walking': 121,'pus filled pimples': 122,'blackheads': 123,'scurring': 124,'skin peeling': 125,'silver like dusting': 126,'small dents in nails': 127,'inflammatory nails': 128,'blister': 129,'red sore around nose': 130,'yellow crust ooze': 131,'prognosis': 132,'Unnamed: 133': 133,"
     ]
    }
   ],
   "source": [
    "cols = train_df.columns\n",
    "for i in range(len(cols)):\n",
    "    col = str(cols[i]).replace('_', ' ')\n",
    "    print(f\"'{col}': {i}\", end=',')"
   ]
  },
  {
   "cell_type": "code",
   "execution_count": 5,
   "id": "d637e469",
   "metadata": {
    "execution": {
     "iopub.execute_input": "2024-02-16T20:58:14.601276Z",
     "iopub.status.busy": "2024-02-16T20:58:14.600407Z",
     "iopub.status.idle": "2024-02-16T20:58:14.609532Z",
     "shell.execute_reply": "2024-02-16T20:58:14.608471Z"
    },
    "papermill": {
     "duration": 0.025725,
     "end_time": "2024-02-16T20:58:14.612395",
     "exception": false,
     "start_time": "2024-02-16T20:58:14.586670",
     "status": "completed"
    },
    "tags": []
   },
   "outputs": [
    {
     "name": "stdout",
     "output_type": "stream",
     "text": [
      "0: 'itching',1: 'skin rash',2: 'nodal skin eruptions',3: 'continuous sneezing',4: 'shivering',5: 'chills',6: 'joint pain',7: 'stomach pain',8: 'acidity',9: 'ulcers on tongue',10: 'muscle wasting',11: 'vomiting',12: 'burning micturition',13: 'spotting  urination',14: 'fatigue',15: 'weight gain',16: 'anxiety',17: 'cold hands and feets',18: 'mood swings',19: 'weight loss',20: 'restlessness',21: 'lethargy',22: 'patches in throat',23: 'irregular sugar level',24: 'cough',25: 'high fever',26: 'sunken eyes',27: 'breathlessness',28: 'sweating',29: 'dehydration',30: 'indigestion',31: 'headache',32: 'yellowish skin',33: 'dark urine',34: 'nausea',35: 'loss of appetite',36: 'pain behind the eyes',37: 'back pain',38: 'constipation',39: 'abdominal pain',40: 'diarrhoea',41: 'mild fever',42: 'yellow urine',43: 'yellowing of eyes',44: 'acute liver failure',45: 'fluid overload',46: 'swelling of stomach',47: 'swelled lymph nodes',48: 'malaise',49: 'blurred and distorted vision',50: 'phlegm',51: 'throat irritation',52: 'redness of eyes',53: 'sinus pressure',54: 'runny nose',55: 'congestion',56: 'chest pain',57: 'weakness in limbs',58: 'fast heart rate',59: 'pain during bowel movements',60: 'pain in anal region',61: 'bloody stool',62: 'irritation in anus',63: 'neck pain',64: 'dizziness',65: 'cramps',66: 'bruising',67: 'obesity',68: 'swollen legs',69: 'swollen blood vessels',70: 'puffy face and eyes',71: 'enlarged thyroid',72: 'brittle nails',73: 'swollen extremeties',74: 'excessive hunger',75: 'extra marital contacts',76: 'drying and tingling lips',77: 'slurred speech',78: 'knee pain',79: 'hip joint pain',80: 'muscle weakness',81: 'stiff neck',82: 'swelling joints',83: 'movement stiffness',84: 'spinning movements',85: 'loss of balance',86: 'unsteadiness',87: 'weakness of one body side',88: 'loss of smell',89: 'bladder discomfort',90: 'foul smell of urine',91: 'continuous feel of urine',92: 'passage of gases',93: 'internal itching',94: 'toxic look (typhos)',95: 'depression',96: 'irritability',97: 'muscle pain',98: 'altered sensorium',99: 'red spots over body',100: 'belly pain',101: 'abnormal menstruation',102: 'dischromic  patches',103: 'watering from eyes',104: 'increased appetite',105: 'polyuria',106: 'family history',107: 'mucoid sputum',108: 'rusty sputum',109: 'lack of concentration',110: 'visual disturbances',111: 'receiving blood transfusion',112: 'receiving unsterile injections',113: 'coma',114: 'stomach bleeding',115: 'distention of abdomen',116: 'history of alcohol consumption',117: 'fluid overload.1',118: 'blood in sputum',119: 'prominent veins on calf',120: 'palpitations',121: 'painful walking',122: 'pus filled pimples',123: 'blackheads',124: 'scurring',125: 'skin peeling',126: 'silver like dusting',127: 'small dents in nails',128: 'inflammatory nails',129: 'blister',130: 'red sore around nose',131: 'yellow crust ooze',132: 'prognosis',133: 'Unnamed: 133',"
     ]
    }
   ],
   "source": [
    "cols = train_df.columns\n",
    "for i in range(len(cols)):\n",
    "    col = str(cols[i]).replace('_', ' ')\n",
    "    print(f\"{i}: '{col}'\", end=',')"
   ]
  },
  {
   "cell_type": "code",
   "execution_count": 6,
   "id": "6cee83dd",
   "metadata": {
    "execution": {
     "iopub.execute_input": "2024-02-16T20:58:14.639351Z",
     "iopub.status.busy": "2024-02-16T20:58:14.638479Z",
     "iopub.status.idle": "2024-02-16T20:58:14.646893Z",
     "shell.execute_reply": "2024-02-16T20:58:14.645431Z"
    },
    "papermill": {
     "duration": 0.025205,
     "end_time": "2024-02-16T20:58:14.649894",
     "exception": false,
     "start_time": "2024-02-16T20:58:14.624689",
     "status": "completed"
    },
    "tags": []
   },
   "outputs": [
    {
     "data": {
      "text/plain": [
       "(4920, 134)"
      ]
     },
     "execution_count": 6,
     "metadata": {},
     "output_type": "execute_result"
    }
   ],
   "source": [
    "train_df.shape"
   ]
  },
  {
   "cell_type": "code",
   "execution_count": 7,
   "id": "94272f9b",
   "metadata": {
    "execution": {
     "iopub.execute_input": "2024-02-16T20:58:14.677896Z",
     "iopub.status.busy": "2024-02-16T20:58:14.677409Z",
     "iopub.status.idle": "2024-02-16T20:58:14.701185Z",
     "shell.execute_reply": "2024-02-16T20:58:14.699809Z"
    },
    "papermill": {
     "duration": 0.041845,
     "end_time": "2024-02-16T20:58:14.704552",
     "exception": false,
     "start_time": "2024-02-16T20:58:14.662707",
     "status": "completed"
    },
    "tags": []
   },
   "outputs": [
    {
     "data": {
      "text/html": [
       "<div>\n",
       "<style scoped>\n",
       "    .dataframe tbody tr th:only-of-type {\n",
       "        vertical-align: middle;\n",
       "    }\n",
       "\n",
       "    .dataframe tbody tr th {\n",
       "        vertical-align: top;\n",
       "    }\n",
       "\n",
       "    .dataframe thead th {\n",
       "        text-align: right;\n",
       "    }\n",
       "</style>\n",
       "<table border=\"1\" class=\"dataframe\">\n",
       "  <thead>\n",
       "    <tr style=\"text-align: right;\">\n",
       "      <th></th>\n",
       "      <th>itching</th>\n",
       "      <th>skin_rash</th>\n",
       "      <th>nodal_skin_eruptions</th>\n",
       "      <th>continuous_sneezing</th>\n",
       "      <th>shivering</th>\n",
       "      <th>chills</th>\n",
       "      <th>joint_pain</th>\n",
       "      <th>stomach_pain</th>\n",
       "      <th>acidity</th>\n",
       "      <th>ulcers_on_tongue</th>\n",
       "      <th>...</th>\n",
       "      <th>blackheads</th>\n",
       "      <th>scurring</th>\n",
       "      <th>skin_peeling</th>\n",
       "      <th>silver_like_dusting</th>\n",
       "      <th>small_dents_in_nails</th>\n",
       "      <th>inflammatory_nails</th>\n",
       "      <th>blister</th>\n",
       "      <th>red_sore_around_nose</th>\n",
       "      <th>yellow_crust_ooze</th>\n",
       "      <th>prognosis</th>\n",
       "    </tr>\n",
       "  </thead>\n",
       "  <tbody>\n",
       "    <tr>\n",
       "      <th>0</th>\n",
       "      <td>1</td>\n",
       "      <td>1</td>\n",
       "      <td>1</td>\n",
       "      <td>0</td>\n",
       "      <td>0</td>\n",
       "      <td>0</td>\n",
       "      <td>0</td>\n",
       "      <td>0</td>\n",
       "      <td>0</td>\n",
       "      <td>0</td>\n",
       "      <td>...</td>\n",
       "      <td>0</td>\n",
       "      <td>0</td>\n",
       "      <td>0</td>\n",
       "      <td>0</td>\n",
       "      <td>0</td>\n",
       "      <td>0</td>\n",
       "      <td>0</td>\n",
       "      <td>0</td>\n",
       "      <td>0</td>\n",
       "      <td>Fungal infection</td>\n",
       "    </tr>\n",
       "    <tr>\n",
       "      <th>1</th>\n",
       "      <td>0</td>\n",
       "      <td>0</td>\n",
       "      <td>0</td>\n",
       "      <td>1</td>\n",
       "      <td>1</td>\n",
       "      <td>1</td>\n",
       "      <td>0</td>\n",
       "      <td>0</td>\n",
       "      <td>0</td>\n",
       "      <td>0</td>\n",
       "      <td>...</td>\n",
       "      <td>0</td>\n",
       "      <td>0</td>\n",
       "      <td>0</td>\n",
       "      <td>0</td>\n",
       "      <td>0</td>\n",
       "      <td>0</td>\n",
       "      <td>0</td>\n",
       "      <td>0</td>\n",
       "      <td>0</td>\n",
       "      <td>Allergy</td>\n",
       "    </tr>\n",
       "    <tr>\n",
       "      <th>2</th>\n",
       "      <td>0</td>\n",
       "      <td>0</td>\n",
       "      <td>0</td>\n",
       "      <td>0</td>\n",
       "      <td>0</td>\n",
       "      <td>0</td>\n",
       "      <td>0</td>\n",
       "      <td>1</td>\n",
       "      <td>1</td>\n",
       "      <td>1</td>\n",
       "      <td>...</td>\n",
       "      <td>0</td>\n",
       "      <td>0</td>\n",
       "      <td>0</td>\n",
       "      <td>0</td>\n",
       "      <td>0</td>\n",
       "      <td>0</td>\n",
       "      <td>0</td>\n",
       "      <td>0</td>\n",
       "      <td>0</td>\n",
       "      <td>GERD</td>\n",
       "    </tr>\n",
       "    <tr>\n",
       "      <th>3</th>\n",
       "      <td>1</td>\n",
       "      <td>0</td>\n",
       "      <td>0</td>\n",
       "      <td>0</td>\n",
       "      <td>0</td>\n",
       "      <td>0</td>\n",
       "      <td>0</td>\n",
       "      <td>0</td>\n",
       "      <td>0</td>\n",
       "      <td>0</td>\n",
       "      <td>...</td>\n",
       "      <td>0</td>\n",
       "      <td>0</td>\n",
       "      <td>0</td>\n",
       "      <td>0</td>\n",
       "      <td>0</td>\n",
       "      <td>0</td>\n",
       "      <td>0</td>\n",
       "      <td>0</td>\n",
       "      <td>0</td>\n",
       "      <td>Chronic cholestasis</td>\n",
       "    </tr>\n",
       "    <tr>\n",
       "      <th>4</th>\n",
       "      <td>1</td>\n",
       "      <td>1</td>\n",
       "      <td>0</td>\n",
       "      <td>0</td>\n",
       "      <td>0</td>\n",
       "      <td>0</td>\n",
       "      <td>0</td>\n",
       "      <td>1</td>\n",
       "      <td>0</td>\n",
       "      <td>0</td>\n",
       "      <td>...</td>\n",
       "      <td>0</td>\n",
       "      <td>0</td>\n",
       "      <td>0</td>\n",
       "      <td>0</td>\n",
       "      <td>0</td>\n",
       "      <td>0</td>\n",
       "      <td>0</td>\n",
       "      <td>0</td>\n",
       "      <td>0</td>\n",
       "      <td>Drug Reaction</td>\n",
       "    </tr>\n",
       "  </tbody>\n",
       "</table>\n",
       "<p>5 rows × 133 columns</p>\n",
       "</div>"
      ],
      "text/plain": [
       "   itching  skin_rash  nodal_skin_eruptions  continuous_sneezing  shivering  \\\n",
       "0        1          1                     1                    0          0   \n",
       "1        0          0                     0                    1          1   \n",
       "2        0          0                     0                    0          0   \n",
       "3        1          0                     0                    0          0   \n",
       "4        1          1                     0                    0          0   \n",
       "\n",
       "   chills  joint_pain  stomach_pain  acidity  ulcers_on_tongue  ...  \\\n",
       "0       0           0             0        0                 0  ...   \n",
       "1       1           0             0        0                 0  ...   \n",
       "2       0           0             1        1                 1  ...   \n",
       "3       0           0             0        0                 0  ...   \n",
       "4       0           0             1        0                 0  ...   \n",
       "\n",
       "   blackheads  scurring  skin_peeling  silver_like_dusting  \\\n",
       "0           0         0             0                    0   \n",
       "1           0         0             0                    0   \n",
       "2           0         0             0                    0   \n",
       "3           0         0             0                    0   \n",
       "4           0         0             0                    0   \n",
       "\n",
       "   small_dents_in_nails  inflammatory_nails  blister  red_sore_around_nose  \\\n",
       "0                     0                   0        0                     0   \n",
       "1                     0                   0        0                     0   \n",
       "2                     0                   0        0                     0   \n",
       "3                     0                   0        0                     0   \n",
       "4                     0                   0        0                     0   \n",
       "\n",
       "   yellow_crust_ooze            prognosis  \n",
       "0                  0     Fungal infection  \n",
       "1                  0              Allergy  \n",
       "2                  0                 GERD  \n",
       "3                  0  Chronic cholestasis  \n",
       "4                  0        Drug Reaction  \n",
       "\n",
       "[5 rows x 133 columns]"
      ]
     },
     "execution_count": 7,
     "metadata": {},
     "output_type": "execute_result"
    }
   ],
   "source": [
    "test_df.head()"
   ]
  },
  {
   "cell_type": "code",
   "execution_count": 8,
   "id": "065fe115",
   "metadata": {
    "execution": {
     "iopub.execute_input": "2024-02-16T20:58:14.733685Z",
     "iopub.status.busy": "2024-02-16T20:58:14.732716Z",
     "iopub.status.idle": "2024-02-16T20:58:14.740450Z",
     "shell.execute_reply": "2024-02-16T20:58:14.739148Z"
    },
    "papermill": {
     "duration": 0.025154,
     "end_time": "2024-02-16T20:58:14.743159",
     "exception": false,
     "start_time": "2024-02-16T20:58:14.718005",
     "status": "completed"
    },
    "tags": []
   },
   "outputs": [
    {
     "data": {
      "text/plain": [
       "(42, 133)"
      ]
     },
     "execution_count": 8,
     "metadata": {},
     "output_type": "execute_result"
    }
   ],
   "source": [
    "test_df.shape"
   ]
  },
  {
   "cell_type": "code",
   "execution_count": 9,
   "id": "8b1ed92a",
   "metadata": {
    "execution": {
     "iopub.execute_input": "2024-02-16T20:58:14.772900Z",
     "iopub.status.busy": "2024-02-16T20:58:14.772092Z",
     "iopub.status.idle": "2024-02-16T20:58:14.786102Z",
     "shell.execute_reply": "2024-02-16T20:58:14.784764Z"
    },
    "papermill": {
     "duration": 0.03238,
     "end_time": "2024-02-16T20:58:14.789225",
     "exception": false,
     "start_time": "2024-02-16T20:58:14.756845",
     "status": "completed"
    },
    "tags": []
   },
   "outputs": [
    {
     "data": {
      "text/plain": [
       "Unnamed: 133    4920\n",
       "dtype: int64"
      ]
     },
     "execution_count": 9,
     "metadata": {},
     "output_type": "execute_result"
    }
   ],
   "source": [
    "null_check = train_df.isnull().sum()\n",
    "null_check[null_check != 0]"
   ]
  },
  {
   "cell_type": "code",
   "execution_count": 10,
   "id": "6ebc89c2",
   "metadata": {
    "execution": {
     "iopub.execute_input": "2024-02-16T20:58:14.819932Z",
     "iopub.status.busy": "2024-02-16T20:58:14.819299Z",
     "iopub.status.idle": "2024-02-16T20:58:14.834789Z",
     "shell.execute_reply": "2024-02-16T20:58:14.833636Z"
    },
    "papermill": {
     "duration": 0.035435,
     "end_time": "2024-02-16T20:58:14.837750",
     "exception": false,
     "start_time": "2024-02-16T20:58:14.802315",
     "status": "completed"
    },
    "tags": []
   },
   "outputs": [],
   "source": [
    "train_df = train_df.drop(columns = 'Unnamed: 133')"
   ]
  },
  {
   "cell_type": "code",
   "execution_count": 11,
   "id": "af8b7708",
   "metadata": {
    "execution": {
     "iopub.execute_input": "2024-02-16T20:58:14.867622Z",
     "iopub.status.busy": "2024-02-16T20:58:14.866091Z",
     "iopub.status.idle": "2024-02-16T20:58:14.873556Z",
     "shell.execute_reply": "2024-02-16T20:58:14.872047Z"
    },
    "papermill": {
     "duration": 0.025776,
     "end_time": "2024-02-16T20:58:14.876451",
     "exception": false,
     "start_time": "2024-02-16T20:58:14.850675",
     "status": "completed"
    },
    "tags": []
   },
   "outputs": [],
   "source": [
    "prognosis = train_df['prognosis']"
   ]
  },
  {
   "cell_type": "code",
   "execution_count": 12,
   "id": "b17a97e8",
   "metadata": {
    "execution": {
     "iopub.execute_input": "2024-02-16T20:58:14.905333Z",
     "iopub.status.busy": "2024-02-16T20:58:14.904818Z",
     "iopub.status.idle": "2024-02-16T20:58:14.919460Z",
     "shell.execute_reply": "2024-02-16T20:58:14.918414Z"
    },
    "papermill": {
     "duration": 0.0327,
     "end_time": "2024-02-16T20:58:14.922616",
     "exception": false,
     "start_time": "2024-02-16T20:58:14.889916",
     "status": "completed"
    },
    "tags": []
   },
   "outputs": [
    {
     "data": {
      "text/plain": [
       "prognosis\n",
       "Fungal infection                           120\n",
       "Hepatitis C                                120\n",
       "Hepatitis E                                120\n",
       "Alcoholic hepatitis                        120\n",
       "Tuberculosis                               120\n",
       "Common Cold                                120\n",
       "Pneumonia                                  120\n",
       "Dimorphic hemmorhoids(piles)               120\n",
       "Heart attack                               120\n",
       "Varicose veins                             120\n",
       "Hypothyroidism                             120\n",
       "Hyperthyroidism                            120\n",
       "Hypoglycemia                               120\n",
       "Osteoarthristis                            120\n",
       "Arthritis                                  120\n",
       "(vertigo) Paroymsal  Positional Vertigo    120\n",
       "Acne                                       120\n",
       "Urinary tract infection                    120\n",
       "Psoriasis                                  120\n",
       "Hepatitis D                                120\n",
       "Hepatitis B                                120\n",
       "Allergy                                    120\n",
       "hepatitis A                                120\n",
       "GERD                                       120\n",
       "Chronic cholestasis                        120\n",
       "Drug Reaction                              120\n",
       "Peptic ulcer diseae                        120\n",
       "AIDS                                       120\n",
       "Diabetes                                   120\n",
       "Gastroenteritis                            120\n",
       "Bronchial Asthma                           120\n",
       "Hypertension                               120\n",
       "Migraine                                   120\n",
       "Cervical spondylosis                       120\n",
       "Paralysis (brain hemorrhage)               120\n",
       "Jaundice                                   120\n",
       "Malaria                                    120\n",
       "Chicken pox                                120\n",
       "Dengue                                     120\n",
       "Typhoid                                    120\n",
       "Impetigo                                   120\n",
       "Name: count, dtype: int64"
      ]
     },
     "execution_count": 12,
     "metadata": {},
     "output_type": "execute_result"
    }
   ],
   "source": [
    "prognosis.value_counts()"
   ]
  },
  {
   "cell_type": "markdown",
   "id": "a7619696",
   "metadata": {
    "papermill": {
     "duration": 0.012863,
     "end_time": "2024-02-16T20:58:14.948998",
     "exception": false,
     "start_time": "2024-02-16T20:58:14.936135",
     "status": "completed"
    },
    "tags": []
   },
   "source": [
    "# Splitting Dataset"
   ]
  },
  {
   "cell_type": "code",
   "execution_count": 13,
   "id": "0153cf8d",
   "metadata": {
    "execution": {
     "iopub.execute_input": "2024-02-16T20:58:14.979165Z",
     "iopub.status.busy": "2024-02-16T20:58:14.977820Z",
     "iopub.status.idle": "2024-02-16T20:58:14.999143Z",
     "shell.execute_reply": "2024-02-16T20:58:14.998101Z"
    },
    "papermill": {
     "duration": 0.038831,
     "end_time": "2024-02-16T20:58:15.001623",
     "exception": false,
     "start_time": "2024-02-16T20:58:14.962792",
     "status": "completed"
    },
    "tags": []
   },
   "outputs": [
    {
     "data": {
      "text/html": [
       "<div>\n",
       "<style scoped>\n",
       "    .dataframe tbody tr th:only-of-type {\n",
       "        vertical-align: middle;\n",
       "    }\n",
       "\n",
       "    .dataframe tbody tr th {\n",
       "        vertical-align: top;\n",
       "    }\n",
       "\n",
       "    .dataframe thead th {\n",
       "        text-align: right;\n",
       "    }\n",
       "</style>\n",
       "<table border=\"1\" class=\"dataframe\">\n",
       "  <thead>\n",
       "    <tr style=\"text-align: right;\">\n",
       "      <th></th>\n",
       "      <th>itching</th>\n",
       "      <th>skin_rash</th>\n",
       "      <th>nodal_skin_eruptions</th>\n",
       "      <th>continuous_sneezing</th>\n",
       "      <th>shivering</th>\n",
       "      <th>chills</th>\n",
       "      <th>joint_pain</th>\n",
       "      <th>stomach_pain</th>\n",
       "      <th>acidity</th>\n",
       "      <th>ulcers_on_tongue</th>\n",
       "      <th>...</th>\n",
       "      <th>blackheads</th>\n",
       "      <th>scurring</th>\n",
       "      <th>skin_peeling</th>\n",
       "      <th>silver_like_dusting</th>\n",
       "      <th>small_dents_in_nails</th>\n",
       "      <th>inflammatory_nails</th>\n",
       "      <th>blister</th>\n",
       "      <th>red_sore_around_nose</th>\n",
       "      <th>yellow_crust_ooze</th>\n",
       "      <th>prognosis</th>\n",
       "    </tr>\n",
       "  </thead>\n",
       "  <tbody>\n",
       "    <tr>\n",
       "      <th>0</th>\n",
       "      <td>1</td>\n",
       "      <td>1</td>\n",
       "      <td>1</td>\n",
       "      <td>0</td>\n",
       "      <td>0</td>\n",
       "      <td>0</td>\n",
       "      <td>0</td>\n",
       "      <td>0</td>\n",
       "      <td>0</td>\n",
       "      <td>0</td>\n",
       "      <td>...</td>\n",
       "      <td>0</td>\n",
       "      <td>0</td>\n",
       "      <td>0</td>\n",
       "      <td>0</td>\n",
       "      <td>0</td>\n",
       "      <td>0</td>\n",
       "      <td>0</td>\n",
       "      <td>0</td>\n",
       "      <td>0</td>\n",
       "      <td>Fungal infection</td>\n",
       "    </tr>\n",
       "    <tr>\n",
       "      <th>1</th>\n",
       "      <td>0</td>\n",
       "      <td>1</td>\n",
       "      <td>1</td>\n",
       "      <td>0</td>\n",
       "      <td>0</td>\n",
       "      <td>0</td>\n",
       "      <td>0</td>\n",
       "      <td>0</td>\n",
       "      <td>0</td>\n",
       "      <td>0</td>\n",
       "      <td>...</td>\n",
       "      <td>0</td>\n",
       "      <td>0</td>\n",
       "      <td>0</td>\n",
       "      <td>0</td>\n",
       "      <td>0</td>\n",
       "      <td>0</td>\n",
       "      <td>0</td>\n",
       "      <td>0</td>\n",
       "      <td>0</td>\n",
       "      <td>Fungal infection</td>\n",
       "    </tr>\n",
       "    <tr>\n",
       "      <th>2</th>\n",
       "      <td>1</td>\n",
       "      <td>0</td>\n",
       "      <td>1</td>\n",
       "      <td>0</td>\n",
       "      <td>0</td>\n",
       "      <td>0</td>\n",
       "      <td>0</td>\n",
       "      <td>0</td>\n",
       "      <td>0</td>\n",
       "      <td>0</td>\n",
       "      <td>...</td>\n",
       "      <td>0</td>\n",
       "      <td>0</td>\n",
       "      <td>0</td>\n",
       "      <td>0</td>\n",
       "      <td>0</td>\n",
       "      <td>0</td>\n",
       "      <td>0</td>\n",
       "      <td>0</td>\n",
       "      <td>0</td>\n",
       "      <td>Fungal infection</td>\n",
       "    </tr>\n",
       "    <tr>\n",
       "      <th>3</th>\n",
       "      <td>1</td>\n",
       "      <td>1</td>\n",
       "      <td>0</td>\n",
       "      <td>0</td>\n",
       "      <td>0</td>\n",
       "      <td>0</td>\n",
       "      <td>0</td>\n",
       "      <td>0</td>\n",
       "      <td>0</td>\n",
       "      <td>0</td>\n",
       "      <td>...</td>\n",
       "      <td>0</td>\n",
       "      <td>0</td>\n",
       "      <td>0</td>\n",
       "      <td>0</td>\n",
       "      <td>0</td>\n",
       "      <td>0</td>\n",
       "      <td>0</td>\n",
       "      <td>0</td>\n",
       "      <td>0</td>\n",
       "      <td>Fungal infection</td>\n",
       "    </tr>\n",
       "    <tr>\n",
       "      <th>4</th>\n",
       "      <td>1</td>\n",
       "      <td>1</td>\n",
       "      <td>1</td>\n",
       "      <td>0</td>\n",
       "      <td>0</td>\n",
       "      <td>0</td>\n",
       "      <td>0</td>\n",
       "      <td>0</td>\n",
       "      <td>0</td>\n",
       "      <td>0</td>\n",
       "      <td>...</td>\n",
       "      <td>0</td>\n",
       "      <td>0</td>\n",
       "      <td>0</td>\n",
       "      <td>0</td>\n",
       "      <td>0</td>\n",
       "      <td>0</td>\n",
       "      <td>0</td>\n",
       "      <td>0</td>\n",
       "      <td>0</td>\n",
       "      <td>Fungal infection</td>\n",
       "    </tr>\n",
       "  </tbody>\n",
       "</table>\n",
       "<p>5 rows × 133 columns</p>\n",
       "</div>"
      ],
      "text/plain": [
       "   itching  skin_rash  nodal_skin_eruptions  continuous_sneezing  shivering  \\\n",
       "0        1          1                     1                    0          0   \n",
       "1        0          1                     1                    0          0   \n",
       "2        1          0                     1                    0          0   \n",
       "3        1          1                     0                    0          0   \n",
       "4        1          1                     1                    0          0   \n",
       "\n",
       "   chills  joint_pain  stomach_pain  acidity  ulcers_on_tongue  ...  \\\n",
       "0       0           0             0        0                 0  ...   \n",
       "1       0           0             0        0                 0  ...   \n",
       "2       0           0             0        0                 0  ...   \n",
       "3       0           0             0        0                 0  ...   \n",
       "4       0           0             0        0                 0  ...   \n",
       "\n",
       "   blackheads  scurring  skin_peeling  silver_like_dusting  \\\n",
       "0           0         0             0                    0   \n",
       "1           0         0             0                    0   \n",
       "2           0         0             0                    0   \n",
       "3           0         0             0                    0   \n",
       "4           0         0             0                    0   \n",
       "\n",
       "   small_dents_in_nails  inflammatory_nails  blister  red_sore_around_nose  \\\n",
       "0                     0                   0        0                     0   \n",
       "1                     0                   0        0                     0   \n",
       "2                     0                   0        0                     0   \n",
       "3                     0                   0        0                     0   \n",
       "4                     0                   0        0                     0   \n",
       "\n",
       "   yellow_crust_ooze         prognosis  \n",
       "0                  0  Fungal infection  \n",
       "1                  0  Fungal infection  \n",
       "2                  0  Fungal infection  \n",
       "3                  0  Fungal infection  \n",
       "4                  0  Fungal infection  \n",
       "\n",
       "[5 rows x 133 columns]"
      ]
     },
     "execution_count": 13,
     "metadata": {},
     "output_type": "execute_result"
    }
   ],
   "source": [
    "train_df.head()"
   ]
  },
  {
   "cell_type": "code",
   "execution_count": 14,
   "id": "393c9719",
   "metadata": {
    "execution": {
     "iopub.execute_input": "2024-02-16T20:58:15.033055Z",
     "iopub.status.busy": "2024-02-16T20:58:15.032164Z",
     "iopub.status.idle": "2024-02-16T20:58:15.044636Z",
     "shell.execute_reply": "2024-02-16T20:58:15.043452Z"
    },
    "papermill": {
     "duration": 0.03133,
     "end_time": "2024-02-16T20:58:15.047409",
     "exception": false,
     "start_time": "2024-02-16T20:58:15.016079",
     "status": "completed"
    },
    "tags": []
   },
   "outputs": [],
   "source": [
    "X_train = train_df.drop(columns='prognosis')\n",
    "X_test = test_df.drop(columns='prognosis')\n",
    "\n",
    "y_train = train_df['prognosis'].to_numpy()\n",
    "y_test = test_df['prognosis']"
   ]
  },
  {
   "cell_type": "code",
   "execution_count": 15,
   "id": "e1b23b5d",
   "metadata": {
    "execution": {
     "iopub.execute_input": "2024-02-16T20:58:15.077542Z",
     "iopub.status.busy": "2024-02-16T20:58:15.077023Z",
     "iopub.status.idle": "2024-02-16T20:58:15.085266Z",
     "shell.execute_reply": "2024-02-16T20:58:15.083772Z"
    },
    "papermill": {
     "duration": 0.026977,
     "end_time": "2024-02-16T20:58:15.088112",
     "exception": false,
     "start_time": "2024-02-16T20:58:15.061135",
     "status": "completed"
    },
    "tags": []
   },
   "outputs": [
    {
     "data": {
      "text/plain": [
       "((4920, 132), (42, 132))"
      ]
     },
     "execution_count": 15,
     "metadata": {},
     "output_type": "execute_result"
    }
   ],
   "source": [
    "X_train.shape, X_test.shape"
   ]
  },
  {
   "cell_type": "code",
   "execution_count": 16,
   "id": "21afd03c",
   "metadata": {
    "execution": {
     "iopub.execute_input": "2024-02-16T20:58:15.119846Z",
     "iopub.status.busy": "2024-02-16T20:58:15.119343Z",
     "iopub.status.idle": "2024-02-16T20:58:15.127237Z",
     "shell.execute_reply": "2024-02-16T20:58:15.125921Z"
    },
    "papermill": {
     "duration": 0.027067,
     "end_time": "2024-02-16T20:58:15.130118",
     "exception": false,
     "start_time": "2024-02-16T20:58:15.103051",
     "status": "completed"
    },
    "tags": []
   },
   "outputs": [
    {
     "data": {
      "text/plain": [
       "((4920,), (42,))"
      ]
     },
     "execution_count": 16,
     "metadata": {},
     "output_type": "execute_result"
    }
   ],
   "source": [
    "y_train.shape, y_test.shape"
   ]
  },
  {
   "cell_type": "markdown",
   "id": "8561897d",
   "metadata": {
    "papermill": {
     "duration": 0.013483,
     "end_time": "2024-02-16T20:58:15.157633",
     "exception": false,
     "start_time": "2024-02-16T20:58:15.144150",
     "status": "completed"
    },
    "tags": []
   },
   "source": [
    "# Encdoding"
   ]
  },
  {
   "cell_type": "code",
   "execution_count": 17,
   "id": "5ebdfc83",
   "metadata": {
    "execution": {
     "iopub.execute_input": "2024-02-16T20:58:15.188593Z",
     "iopub.status.busy": "2024-02-16T20:58:15.187230Z",
     "iopub.status.idle": "2024-02-16T20:58:15.219978Z",
     "shell.execute_reply": "2024-02-16T20:58:15.218492Z"
    },
    "papermill": {
     "duration": 0.051269,
     "end_time": "2024-02-16T20:58:15.223001",
     "exception": false,
     "start_time": "2024-02-16T20:58:15.171732",
     "status": "completed"
    },
    "tags": []
   },
   "outputs": [
    {
     "data": {
      "text/html": [
       "<div>\n",
       "<style scoped>\n",
       "    .dataframe tbody tr th:only-of-type {\n",
       "        vertical-align: middle;\n",
       "    }\n",
       "\n",
       "    .dataframe tbody tr th {\n",
       "        vertical-align: top;\n",
       "    }\n",
       "\n",
       "    .dataframe thead th {\n",
       "        text-align: right;\n",
       "    }\n",
       "</style>\n",
       "<table border=\"1\" class=\"dataframe\">\n",
       "  <thead>\n",
       "    <tr style=\"text-align: right;\">\n",
       "      <th></th>\n",
       "      <th>(vertigo) Paroymsal  Positional Vertigo</th>\n",
       "      <th>AIDS</th>\n",
       "      <th>Acne</th>\n",
       "      <th>Alcoholic hepatitis</th>\n",
       "      <th>Allergy</th>\n",
       "      <th>Arthritis</th>\n",
       "      <th>Bronchial Asthma</th>\n",
       "      <th>Cervical spondylosis</th>\n",
       "      <th>Chicken pox</th>\n",
       "      <th>Chronic cholestasis</th>\n",
       "      <th>...</th>\n",
       "      <th>Osteoarthristis</th>\n",
       "      <th>Paralysis (brain hemorrhage)</th>\n",
       "      <th>Peptic ulcer diseae</th>\n",
       "      <th>Pneumonia</th>\n",
       "      <th>Psoriasis</th>\n",
       "      <th>Tuberculosis</th>\n",
       "      <th>Typhoid</th>\n",
       "      <th>Urinary tract infection</th>\n",
       "      <th>Varicose veins</th>\n",
       "      <th>hepatitis A</th>\n",
       "    </tr>\n",
       "  </thead>\n",
       "  <tbody>\n",
       "    <tr>\n",
       "      <th>0</th>\n",
       "      <td>False</td>\n",
       "      <td>False</td>\n",
       "      <td>False</td>\n",
       "      <td>False</td>\n",
       "      <td>False</td>\n",
       "      <td>False</td>\n",
       "      <td>False</td>\n",
       "      <td>False</td>\n",
       "      <td>False</td>\n",
       "      <td>False</td>\n",
       "      <td>...</td>\n",
       "      <td>False</td>\n",
       "      <td>False</td>\n",
       "      <td>False</td>\n",
       "      <td>False</td>\n",
       "      <td>False</td>\n",
       "      <td>False</td>\n",
       "      <td>False</td>\n",
       "      <td>False</td>\n",
       "      <td>False</td>\n",
       "      <td>False</td>\n",
       "    </tr>\n",
       "    <tr>\n",
       "      <th>1</th>\n",
       "      <td>False</td>\n",
       "      <td>False</td>\n",
       "      <td>False</td>\n",
       "      <td>False</td>\n",
       "      <td>False</td>\n",
       "      <td>False</td>\n",
       "      <td>False</td>\n",
       "      <td>False</td>\n",
       "      <td>False</td>\n",
       "      <td>False</td>\n",
       "      <td>...</td>\n",
       "      <td>False</td>\n",
       "      <td>False</td>\n",
       "      <td>False</td>\n",
       "      <td>False</td>\n",
       "      <td>False</td>\n",
       "      <td>False</td>\n",
       "      <td>False</td>\n",
       "      <td>False</td>\n",
       "      <td>False</td>\n",
       "      <td>False</td>\n",
       "    </tr>\n",
       "    <tr>\n",
       "      <th>2</th>\n",
       "      <td>False</td>\n",
       "      <td>False</td>\n",
       "      <td>False</td>\n",
       "      <td>False</td>\n",
       "      <td>False</td>\n",
       "      <td>False</td>\n",
       "      <td>False</td>\n",
       "      <td>False</td>\n",
       "      <td>False</td>\n",
       "      <td>False</td>\n",
       "      <td>...</td>\n",
       "      <td>False</td>\n",
       "      <td>False</td>\n",
       "      <td>False</td>\n",
       "      <td>False</td>\n",
       "      <td>False</td>\n",
       "      <td>False</td>\n",
       "      <td>False</td>\n",
       "      <td>False</td>\n",
       "      <td>False</td>\n",
       "      <td>False</td>\n",
       "    </tr>\n",
       "    <tr>\n",
       "      <th>3</th>\n",
       "      <td>False</td>\n",
       "      <td>False</td>\n",
       "      <td>False</td>\n",
       "      <td>False</td>\n",
       "      <td>False</td>\n",
       "      <td>False</td>\n",
       "      <td>False</td>\n",
       "      <td>False</td>\n",
       "      <td>False</td>\n",
       "      <td>False</td>\n",
       "      <td>...</td>\n",
       "      <td>False</td>\n",
       "      <td>False</td>\n",
       "      <td>False</td>\n",
       "      <td>False</td>\n",
       "      <td>False</td>\n",
       "      <td>False</td>\n",
       "      <td>False</td>\n",
       "      <td>False</td>\n",
       "      <td>False</td>\n",
       "      <td>False</td>\n",
       "    </tr>\n",
       "    <tr>\n",
       "      <th>4</th>\n",
       "      <td>False</td>\n",
       "      <td>False</td>\n",
       "      <td>False</td>\n",
       "      <td>False</td>\n",
       "      <td>False</td>\n",
       "      <td>False</td>\n",
       "      <td>False</td>\n",
       "      <td>False</td>\n",
       "      <td>False</td>\n",
       "      <td>False</td>\n",
       "      <td>...</td>\n",
       "      <td>False</td>\n",
       "      <td>False</td>\n",
       "      <td>False</td>\n",
       "      <td>False</td>\n",
       "      <td>False</td>\n",
       "      <td>False</td>\n",
       "      <td>False</td>\n",
       "      <td>False</td>\n",
       "      <td>False</td>\n",
       "      <td>False</td>\n",
       "    </tr>\n",
       "  </tbody>\n",
       "</table>\n",
       "<p>5 rows × 41 columns</p>\n",
       "</div>"
      ],
      "text/plain": [
       "   (vertigo) Paroymsal  Positional Vertigo   AIDS   Acne  Alcoholic hepatitis  \\\n",
       "0                                    False  False  False                False   \n",
       "1                                    False  False  False                False   \n",
       "2                                    False  False  False                False   \n",
       "3                                    False  False  False                False   \n",
       "4                                    False  False  False                False   \n",
       "\n",
       "   Allergy  Arthritis  Bronchial Asthma  Cervical spondylosis  Chicken pox  \\\n",
       "0    False      False             False                 False        False   \n",
       "1    False      False             False                 False        False   \n",
       "2    False      False             False                 False        False   \n",
       "3    False      False             False                 False        False   \n",
       "4    False      False             False                 False        False   \n",
       "\n",
       "   Chronic cholestasis  ...  Osteoarthristis  Paralysis (brain hemorrhage)  \\\n",
       "0                False  ...            False                         False   \n",
       "1                False  ...            False                         False   \n",
       "2                False  ...            False                         False   \n",
       "3                False  ...            False                         False   \n",
       "4                False  ...            False                         False   \n",
       "\n",
       "   Peptic ulcer diseae  Pneumonia  Psoriasis  Tuberculosis  Typhoid  \\\n",
       "0                False      False      False         False    False   \n",
       "1                False      False      False         False    False   \n",
       "2                False      False      False         False    False   \n",
       "3                False      False      False         False    False   \n",
       "4                False      False      False         False    False   \n",
       "\n",
       "   Urinary tract infection  Varicose veins  hepatitis A  \n",
       "0                    False           False        False  \n",
       "1                    False           False        False  \n",
       "2                    False           False        False  \n",
       "3                    False           False        False  \n",
       "4                    False           False        False  \n",
       "\n",
       "[5 rows x 41 columns]"
      ]
     },
     "execution_count": 17,
     "metadata": {},
     "output_type": "execute_result"
    }
   ],
   "source": [
    "y_train_encoded = pd.get_dummies(y_train)\n",
    "y_train_encoded.head()"
   ]
  },
  {
   "cell_type": "code",
   "execution_count": 18,
   "id": "8a156948",
   "metadata": {
    "execution": {
     "iopub.execute_input": "2024-02-16T20:58:15.254567Z",
     "iopub.status.busy": "2024-02-16T20:58:15.254020Z",
     "iopub.status.idle": "2024-02-16T20:58:15.282240Z",
     "shell.execute_reply": "2024-02-16T20:58:15.280869Z"
    },
    "papermill": {
     "duration": 0.047647,
     "end_time": "2024-02-16T20:58:15.285367",
     "exception": false,
     "start_time": "2024-02-16T20:58:15.237720",
     "status": "completed"
    },
    "tags": []
   },
   "outputs": [
    {
     "data": {
      "text/html": [
       "<div>\n",
       "<style scoped>\n",
       "    .dataframe tbody tr th:only-of-type {\n",
       "        vertical-align: middle;\n",
       "    }\n",
       "\n",
       "    .dataframe tbody tr th {\n",
       "        vertical-align: top;\n",
       "    }\n",
       "\n",
       "    .dataframe thead th {\n",
       "        text-align: right;\n",
       "    }\n",
       "</style>\n",
       "<table border=\"1\" class=\"dataframe\">\n",
       "  <thead>\n",
       "    <tr style=\"text-align: right;\">\n",
       "      <th></th>\n",
       "      <th>(vertigo) Paroymsal  Positional Vertigo</th>\n",
       "      <th>AIDS</th>\n",
       "      <th>Acne</th>\n",
       "      <th>Alcoholic hepatitis</th>\n",
       "      <th>Allergy</th>\n",
       "      <th>Arthritis</th>\n",
       "      <th>Bronchial Asthma</th>\n",
       "      <th>Cervical spondylosis</th>\n",
       "      <th>Chicken pox</th>\n",
       "      <th>Chronic cholestasis</th>\n",
       "      <th>...</th>\n",
       "      <th>Osteoarthristis</th>\n",
       "      <th>Paralysis (brain hemorrhage)</th>\n",
       "      <th>Peptic ulcer diseae</th>\n",
       "      <th>Pneumonia</th>\n",
       "      <th>Psoriasis</th>\n",
       "      <th>Tuberculosis</th>\n",
       "      <th>Typhoid</th>\n",
       "      <th>Urinary tract infection</th>\n",
       "      <th>Varicose veins</th>\n",
       "      <th>hepatitis A</th>\n",
       "    </tr>\n",
       "  </thead>\n",
       "  <tbody>\n",
       "    <tr>\n",
       "      <th>0</th>\n",
       "      <td>False</td>\n",
       "      <td>False</td>\n",
       "      <td>False</td>\n",
       "      <td>False</td>\n",
       "      <td>False</td>\n",
       "      <td>False</td>\n",
       "      <td>False</td>\n",
       "      <td>False</td>\n",
       "      <td>False</td>\n",
       "      <td>False</td>\n",
       "      <td>...</td>\n",
       "      <td>False</td>\n",
       "      <td>False</td>\n",
       "      <td>False</td>\n",
       "      <td>False</td>\n",
       "      <td>False</td>\n",
       "      <td>False</td>\n",
       "      <td>False</td>\n",
       "      <td>False</td>\n",
       "      <td>False</td>\n",
       "      <td>False</td>\n",
       "    </tr>\n",
       "    <tr>\n",
       "      <th>1</th>\n",
       "      <td>False</td>\n",
       "      <td>False</td>\n",
       "      <td>False</td>\n",
       "      <td>False</td>\n",
       "      <td>True</td>\n",
       "      <td>False</td>\n",
       "      <td>False</td>\n",
       "      <td>False</td>\n",
       "      <td>False</td>\n",
       "      <td>False</td>\n",
       "      <td>...</td>\n",
       "      <td>False</td>\n",
       "      <td>False</td>\n",
       "      <td>False</td>\n",
       "      <td>False</td>\n",
       "      <td>False</td>\n",
       "      <td>False</td>\n",
       "      <td>False</td>\n",
       "      <td>False</td>\n",
       "      <td>False</td>\n",
       "      <td>False</td>\n",
       "    </tr>\n",
       "    <tr>\n",
       "      <th>2</th>\n",
       "      <td>False</td>\n",
       "      <td>False</td>\n",
       "      <td>False</td>\n",
       "      <td>False</td>\n",
       "      <td>False</td>\n",
       "      <td>False</td>\n",
       "      <td>False</td>\n",
       "      <td>False</td>\n",
       "      <td>False</td>\n",
       "      <td>False</td>\n",
       "      <td>...</td>\n",
       "      <td>False</td>\n",
       "      <td>False</td>\n",
       "      <td>False</td>\n",
       "      <td>False</td>\n",
       "      <td>False</td>\n",
       "      <td>False</td>\n",
       "      <td>False</td>\n",
       "      <td>False</td>\n",
       "      <td>False</td>\n",
       "      <td>False</td>\n",
       "    </tr>\n",
       "    <tr>\n",
       "      <th>3</th>\n",
       "      <td>False</td>\n",
       "      <td>False</td>\n",
       "      <td>False</td>\n",
       "      <td>False</td>\n",
       "      <td>False</td>\n",
       "      <td>False</td>\n",
       "      <td>False</td>\n",
       "      <td>False</td>\n",
       "      <td>False</td>\n",
       "      <td>True</td>\n",
       "      <td>...</td>\n",
       "      <td>False</td>\n",
       "      <td>False</td>\n",
       "      <td>False</td>\n",
       "      <td>False</td>\n",
       "      <td>False</td>\n",
       "      <td>False</td>\n",
       "      <td>False</td>\n",
       "      <td>False</td>\n",
       "      <td>False</td>\n",
       "      <td>False</td>\n",
       "    </tr>\n",
       "    <tr>\n",
       "      <th>4</th>\n",
       "      <td>False</td>\n",
       "      <td>False</td>\n",
       "      <td>False</td>\n",
       "      <td>False</td>\n",
       "      <td>False</td>\n",
       "      <td>False</td>\n",
       "      <td>False</td>\n",
       "      <td>False</td>\n",
       "      <td>False</td>\n",
       "      <td>False</td>\n",
       "      <td>...</td>\n",
       "      <td>False</td>\n",
       "      <td>False</td>\n",
       "      <td>False</td>\n",
       "      <td>False</td>\n",
       "      <td>False</td>\n",
       "      <td>False</td>\n",
       "      <td>False</td>\n",
       "      <td>False</td>\n",
       "      <td>False</td>\n",
       "      <td>False</td>\n",
       "    </tr>\n",
       "  </tbody>\n",
       "</table>\n",
       "<p>5 rows × 41 columns</p>\n",
       "</div>"
      ],
      "text/plain": [
       "   (vertigo) Paroymsal  Positional Vertigo   AIDS   Acne  Alcoholic hepatitis  \\\n",
       "0                                    False  False  False                False   \n",
       "1                                    False  False  False                False   \n",
       "2                                    False  False  False                False   \n",
       "3                                    False  False  False                False   \n",
       "4                                    False  False  False                False   \n",
       "\n",
       "   Allergy  Arthritis  Bronchial Asthma  Cervical spondylosis  Chicken pox  \\\n",
       "0    False      False             False                 False        False   \n",
       "1     True      False             False                 False        False   \n",
       "2    False      False             False                 False        False   \n",
       "3    False      False             False                 False        False   \n",
       "4    False      False             False                 False        False   \n",
       "\n",
       "   Chronic cholestasis  ...  Osteoarthristis  Paralysis (brain hemorrhage)  \\\n",
       "0                False  ...            False                         False   \n",
       "1                False  ...            False                         False   \n",
       "2                False  ...            False                         False   \n",
       "3                 True  ...            False                         False   \n",
       "4                False  ...            False                         False   \n",
       "\n",
       "   Peptic ulcer diseae  Pneumonia  Psoriasis  Tuberculosis  Typhoid  \\\n",
       "0                False      False      False         False    False   \n",
       "1                False      False      False         False    False   \n",
       "2                False      False      False         False    False   \n",
       "3                False      False      False         False    False   \n",
       "4                False      False      False         False    False   \n",
       "\n",
       "   Urinary tract infection  Varicose veins  hepatitis A  \n",
       "0                    False           False        False  \n",
       "1                    False           False        False  \n",
       "2                    False           False        False  \n",
       "3                    False           False        False  \n",
       "4                    False           False        False  \n",
       "\n",
       "[5 rows x 41 columns]"
      ]
     },
     "execution_count": 18,
     "metadata": {},
     "output_type": "execute_result"
    }
   ],
   "source": [
    "y_test_encoded = pd.get_dummies(y_test)\n",
    "y_test_encoded.head()"
   ]
  },
  {
   "cell_type": "markdown",
   "id": "69822f83",
   "metadata": {
    "papermill": {
     "duration": 0.014485,
     "end_time": "2024-02-16T20:58:15.314968",
     "exception": false,
     "start_time": "2024-02-16T20:58:15.300483",
     "status": "completed"
    },
    "tags": []
   },
   "source": [
    "# Model"
   ]
  },
  {
   "cell_type": "code",
   "execution_count": 19,
   "id": "bf642bf6",
   "metadata": {
    "execution": {
     "iopub.execute_input": "2024-02-16T20:58:15.347903Z",
     "iopub.status.busy": "2024-02-16T20:58:15.347110Z",
     "iopub.status.idle": "2024-02-16T20:58:15.574259Z",
     "shell.execute_reply": "2024-02-16T20:58:15.572634Z"
    },
    "papermill": {
     "duration": 0.246872,
     "end_time": "2024-02-16T20:58:15.577446",
     "exception": false,
     "start_time": "2024-02-16T20:58:15.330574",
     "status": "completed"
    },
    "tags": []
   },
   "outputs": [],
   "source": [
    "model = Sequential()\n",
    "model.add(Dense(32, activation='relu', input_shape= (X_train.shape[1], )))\n",
    "model.add(Dense(16, activation='relu'))\n",
    "model.add(Dense(y_train_encoded.shape[1], activation='softmax'))"
   ]
  },
  {
   "cell_type": "code",
   "execution_count": 20,
   "id": "e884fbb6",
   "metadata": {
    "execution": {
     "iopub.execute_input": "2024-02-16T20:58:15.609337Z",
     "iopub.status.busy": "2024-02-16T20:58:15.608804Z",
     "iopub.status.idle": "2024-02-16T20:58:15.635174Z",
     "shell.execute_reply": "2024-02-16T20:58:15.633701Z"
    },
    "papermill": {
     "duration": 0.047,
     "end_time": "2024-02-16T20:58:15.639430",
     "exception": false,
     "start_time": "2024-02-16T20:58:15.592430",
     "status": "completed"
    },
    "tags": []
   },
   "outputs": [
    {
     "name": "stdout",
     "output_type": "stream",
     "text": [
      "Model: \"sequential\"\n",
      "_________________________________________________________________\n",
      " Layer (type)                Output Shape              Param #   \n",
      "=================================================================\n",
      " dense (Dense)               (None, 32)                4256      \n",
      "                                                                 \n",
      " dense_1 (Dense)             (None, 16)                528       \n",
      "                                                                 \n",
      " dense_2 (Dense)             (None, 41)                697       \n",
      "                                                                 \n",
      "=================================================================\n",
      "Total params: 5481 (21.41 KB)\n",
      "Trainable params: 5481 (21.41 KB)\n",
      "Non-trainable params: 0 (0.00 Byte)\n",
      "_________________________________________________________________\n"
     ]
    }
   ],
   "source": [
    "model.summary()"
   ]
  },
  {
   "cell_type": "code",
   "execution_count": 21,
   "id": "e7f4ed3a",
   "metadata": {
    "execution": {
     "iopub.execute_input": "2024-02-16T20:58:15.768311Z",
     "iopub.status.busy": "2024-02-16T20:58:15.767808Z",
     "iopub.status.idle": "2024-02-16T20:58:15.791151Z",
     "shell.execute_reply": "2024-02-16T20:58:15.789811Z"
    },
    "papermill": {
     "duration": 0.04547,
     "end_time": "2024-02-16T20:58:15.794511",
     "exception": false,
     "start_time": "2024-02-16T20:58:15.749041",
     "status": "completed"
    },
    "tags": []
   },
   "outputs": [],
   "source": [
    "model.compile('adam', loss='categorical_crossentropy', metrics=['accuracy'])"
   ]
  },
  {
   "cell_type": "code",
   "execution_count": 22,
   "id": "7c8c795f",
   "metadata": {
    "execution": {
     "iopub.execute_input": "2024-02-16T20:58:15.833287Z",
     "iopub.status.busy": "2024-02-16T20:58:15.832594Z",
     "iopub.status.idle": "2024-02-16T20:58:19.067683Z",
     "shell.execute_reply": "2024-02-16T20:58:19.066460Z"
    },
    "papermill": {
     "duration": 3.259071,
     "end_time": "2024-02-16T20:58:19.070645",
     "exception": false,
     "start_time": "2024-02-16T20:58:15.811574",
     "status": "completed"
    },
    "tags": []
   },
   "outputs": [
    {
     "name": "stdout",
     "output_type": "stream",
     "text": [
      "Epoch 1/10\n",
      "93/93 [==============================] - 2s 6ms/step - loss: 3.4615 - accuracy: 0.1474 - val_loss: 2.9804 - val_accuracy: 0.3171\n",
      "Epoch 2/10\n",
      "93/93 [==============================] - 0s 3ms/step - loss: 2.2736 - accuracy: 0.5913 - val_loss: 1.2769 - val_accuracy: 0.9024\n",
      "Epoch 3/10\n",
      "93/93 [==============================] - 0s 3ms/step - loss: 0.8028 - accuracy: 0.9564 - val_loss: 0.2745 - val_accuracy: 1.0000\n",
      "Epoch 4/10\n",
      "93/93 [==============================] - 0s 3ms/step - loss: 0.2203 - accuracy: 0.9995 - val_loss: 0.0701 - val_accuracy: 1.0000\n",
      "Epoch 5/10\n",
      "93/93 [==============================] - 0s 3ms/step - loss: 0.0828 - accuracy: 1.0000 - val_loss: 0.0275 - val_accuracy: 1.0000\n"
     ]
    },
    {
     "data": {
      "text/plain": [
       "<keras.src.callbacks.History at 0x7b4fe551e800>"
      ]
     },
     "execution_count": 22,
     "metadata": {},
     "output_type": "execute_result"
    }
   ],
   "source": [
    "early_stopping= EarlyStopping(patience=2, monitor='val_accuracy')\n",
    "model.fit(X_train, y_train_encoded, batch_size=40, epochs=10, validation_split=0.25, callbacks=[early_stopping])"
   ]
  },
  {
   "cell_type": "code",
   "execution_count": 23,
   "id": "99780510",
   "metadata": {
    "execution": {
     "iopub.execute_input": "2024-02-16T20:58:19.113031Z",
     "iopub.status.busy": "2024-02-16T20:58:19.112516Z",
     "iopub.status.idle": "2024-02-16T20:58:19.253408Z",
     "shell.execute_reply": "2024-02-16T20:58:19.251991Z"
    },
    "papermill": {
     "duration": 0.165744,
     "end_time": "2024-02-16T20:58:19.256347",
     "exception": false,
     "start_time": "2024-02-16T20:58:19.090603",
     "status": "completed"
    },
    "tags": []
   },
   "outputs": [
    {
     "name": "stdout",
     "output_type": "stream",
     "text": [
      "8/8 [==============================] - 0s 2ms/step - loss: 0.0215 - accuracy: 1.0000\n"
     ]
    },
    {
     "data": {
      "text/plain": [
       "[0.021489158272743225, 1.0]"
      ]
     },
     "execution_count": 23,
     "metadata": {},
     "output_type": "execute_result"
    }
   ],
   "source": [
    "model.evaluate(X_test, y_test_encoded, batch_size=1, steps=8)"
   ]
  },
  {
   "cell_type": "code",
   "execution_count": 24,
   "id": "a0f5f1fc",
   "metadata": {
    "execution": {
     "iopub.execute_input": "2024-02-16T20:58:19.299533Z",
     "iopub.status.busy": "2024-02-16T20:58:19.298041Z",
     "iopub.status.idle": "2024-02-16T20:58:19.512211Z",
     "shell.execute_reply": "2024-02-16T20:58:19.510696Z"
    },
    "papermill": {
     "duration": 0.239099,
     "end_time": "2024-02-16T20:58:19.515502",
     "exception": false,
     "start_time": "2024-02-16T20:58:19.276403",
     "status": "completed"
    },
    "tags": []
   },
   "outputs": [
    {
     "name": "stdout",
     "output_type": "stream",
     "text": [
      "2/2 [==============================] - 0s 4ms/step\n"
     ]
    }
   ],
   "source": [
    "predictions = model.predict(X_test)"
   ]
  },
  {
   "cell_type": "code",
   "execution_count": 25,
   "id": "85ea0cf8",
   "metadata": {
    "execution": {
     "iopub.execute_input": "2024-02-16T20:58:19.560260Z",
     "iopub.status.busy": "2024-02-16T20:58:19.559734Z",
     "iopub.status.idle": "2024-02-16T20:58:19.568597Z",
     "shell.execute_reply": "2024-02-16T20:58:19.567412Z"
    },
    "papermill": {
     "duration": 0.035242,
     "end_time": "2024-02-16T20:58:19.571239",
     "exception": false,
     "start_time": "2024-02-16T20:58:19.535997",
     "status": "completed"
    },
    "tags": []
   },
   "outputs": [
    {
     "data": {
      "text/plain": [
       "array([15,  4, 16,  9, 14, 33,  1, 12, 17,  6, 23, 30,  7, 32, 28, 29,  8,\n",
       "       11, 37, 40, 19, 20, 21, 22,  3, 36, 10, 34, 13, 18, 39, 26, 24, 25,\n",
       "       31,  5,  0,  2, 38, 35, 27, 14])"
      ]
     },
     "execution_count": 25,
     "metadata": {},
     "output_type": "execute_result"
    }
   ],
   "source": [
    "np.argmax(predictions, axis=1)"
   ]
  },
  {
   "cell_type": "code",
   "execution_count": 26,
   "id": "d8e7ae99",
   "metadata": {
    "execution": {
     "iopub.execute_input": "2024-02-16T20:58:19.614062Z",
     "iopub.status.busy": "2024-02-16T20:58:19.613544Z",
     "iopub.status.idle": "2024-02-16T20:58:19.673891Z",
     "shell.execute_reply": "2024-02-16T20:58:19.672594Z"
    },
    "papermill": {
     "duration": 0.085668,
     "end_time": "2024-02-16T20:58:19.677267",
     "exception": false,
     "start_time": "2024-02-16T20:58:19.591599",
     "status": "completed"
    },
    "tags": []
   },
   "outputs": [],
   "source": [
    "# model.save('model.h5')\n",
    "with open('model.pkl', 'wb') as file:\n",
    "    pickle.dump(model, file)"
   ]
  },
  {
   "cell_type": "markdown",
   "id": "7bebd331",
   "metadata": {
    "execution": {
     "iopub.execute_input": "2023-12-11T17:34:58.515624Z",
     "iopub.status.busy": "2023-12-11T17:34:58.515127Z",
     "iopub.status.idle": "2023-12-11T17:34:58.521366Z",
     "shell.execute_reply": "2023-12-11T17:34:58.520397Z",
     "shell.execute_reply.started": "2023-12-11T17:34:58.515583Z"
    },
    "papermill": {
     "duration": 0.019968,
     "end_time": "2024-02-16T20:58:19.717985",
     "exception": false,
     "start_time": "2024-02-16T20:58:19.698017",
     "status": "completed"
    },
    "tags": []
   },
   "source": [
    "import shutil\n",
    "shutil.rmtree(\"/kaggle/working/model\")"
   ]
  },
  {
   "cell_type": "code",
   "execution_count": 27,
   "id": "67b663cc",
   "metadata": {
    "execution": {
     "iopub.execute_input": "2024-02-16T20:58:19.761187Z",
     "iopub.status.busy": "2024-02-16T20:58:19.760693Z",
     "iopub.status.idle": "2024-02-16T20:58:19.771396Z",
     "shell.execute_reply": "2024-02-16T20:58:19.769736Z"
    },
    "papermill": {
     "duration": 0.035476,
     "end_time": "2024-02-16T20:58:19.774097",
     "exception": false,
     "start_time": "2024-02-16T20:58:19.738621",
     "status": "completed"
    },
    "tags": []
   },
   "outputs": [],
   "source": [
    "def get_result(arr):\n",
    "    names = ['(vertigo) Paroymsal  Positional Vertigo', 'AIDS', 'Acne',\n",
    "       'Alcoholic hepatitis', 'Allergy', 'Arthritis', 'Bronchial Asthma',\n",
    "       'Cervical spondylosis', 'Chicken pox', 'Chronic cholestasis',\n",
    "       'Common Cold', 'Dengue', 'Diabetes ', 'Dimorphic hemmorhoids(piles)',\n",
    "       'Drug Reaction', 'Fungal infection', 'GERD', 'Gastroenteritis',\n",
    "       'Heart attack', 'Hepatitis B', 'Hepatitis C', 'Hepatitis D',\n",
    "       'Hepatitis E', 'Hypertension ', 'Hyperthyroidism', 'Hypoglycemia',\n",
    "       'Hypothyroidism', 'Impetigo', 'Jaundice', 'Malaria', 'Migraine',\n",
    "       'Osteoarthristis', 'Paralysis (brain hemorrhage)',\n",
    "       'Peptic ulcer diseae', 'Pneumonia', 'Psoriasis', 'Tuberculosis',\n",
    "       'Typhoid', 'Urinary tract infection', 'Varicose veins', 'hepatitis A']\n",
    "    \n",
    "    \n",
    "    arr = np.array(arr).reshape(1,132)\n",
    "    prediction = model.predict(arr)\n",
    "    index = np.argmax(prediction)\n",
    "    \n",
    "    disease_name = names[index]\n",
    "    probability = np.max(model.predict(arr))\n",
    "    \n",
    "    return disease_name, probability"
   ]
  },
  {
   "cell_type": "code",
   "execution_count": 28,
   "id": "87746983",
   "metadata": {
    "execution": {
     "iopub.execute_input": "2024-02-16T20:58:19.816957Z",
     "iopub.status.busy": "2024-02-16T20:58:19.816475Z",
     "iopub.status.idle": "2024-02-16T20:58:19.826278Z",
     "shell.execute_reply": "2024-02-16T20:58:19.824817Z"
    },
    "papermill": {
     "duration": 0.034651,
     "end_time": "2024-02-16T20:58:19.829162",
     "exception": false,
     "start_time": "2024-02-16T20:58:19.794511",
     "status": "completed"
    },
    "tags": []
   },
   "outputs": [
    {
     "data": {
      "text/plain": [
       "array([1, 1, 0, 0, 0, 0, 0, 1, 0, 0, 0, 0, 1, 1, 0, 0, 0, 0, 0, 0, 0, 0,\n",
       "       0, 0, 0, 0, 0, 0, 0, 0, 0, 0, 0, 0, 0, 0, 0, 0, 0, 0, 0, 0, 0, 0,\n",
       "       0, 0, 0, 0, 0, 0, 0, 0, 0, 0, 0, 0, 0, 0, 0, 0, 0, 0, 0, 0, 0, 0,\n",
       "       0, 0, 0, 0, 0, 0, 0, 0, 0, 0, 0, 0, 0, 0, 0, 0, 0, 0, 0, 0, 0, 0,\n",
       "       0, 0, 0, 0, 0, 0, 0, 0, 0, 0, 0, 0, 0, 0, 0, 0, 0, 0, 0, 0, 0, 0,\n",
       "       0, 0, 0, 0, 0, 0, 0, 0, 0, 0, 0, 0, 0, 0, 0, 0, 0, 0, 0, 0, 0, 0])"
      ]
     },
     "execution_count": 28,
     "metadata": {},
     "output_type": "execute_result"
    }
   ],
   "source": [
    "X_test.iloc[4].to_numpy()"
   ]
  },
  {
   "cell_type": "code",
   "execution_count": 29,
   "id": "2e613476",
   "metadata": {
    "execution": {
     "iopub.execute_input": "2024-02-16T20:58:19.875566Z",
     "iopub.status.busy": "2024-02-16T20:58:19.874463Z",
     "iopub.status.idle": "2024-02-16T20:58:20.047683Z",
     "shell.execute_reply": "2024-02-16T20:58:20.046385Z"
    },
    "papermill": {
     "duration": 0.198378,
     "end_time": "2024-02-16T20:58:20.050509",
     "exception": false,
     "start_time": "2024-02-16T20:58:19.852131",
     "status": "completed"
    },
    "tags": []
   },
   "outputs": [
    {
     "name": "stdout",
     "output_type": "stream",
     "text": [
      "1/1 [==============================] - 0s 24ms/step\n",
      "1/1 [==============================] - 0s 25ms/step\n"
     ]
    },
    {
     "data": {
      "text/plain": [
       "('Drug Reaction', 0.97152746)"
      ]
     },
     "execution_count": 29,
     "metadata": {},
     "output_type": "execute_result"
    }
   ],
   "source": [
    "get_result(X_test.iloc[4].to_numpy())"
   ]
  },
  {
   "cell_type": "code",
   "execution_count": 30,
   "id": "92478b7e",
   "metadata": {
    "execution": {
     "iopub.execute_input": "2024-02-16T20:58:20.096272Z",
     "iopub.status.busy": "2024-02-16T20:58:20.094819Z",
     "iopub.status.idle": "2024-02-16T20:58:20.105136Z",
     "shell.execute_reply": "2024-02-16T20:58:20.103808Z"
    },
    "papermill": {
     "duration": 0.035977,
     "end_time": "2024-02-16T20:58:20.107849",
     "exception": false,
     "start_time": "2024-02-16T20:58:20.071872",
     "status": "completed"
    },
    "tags": []
   },
   "outputs": [
    {
     "name": "stdout",
     "output_type": "stream",
     "text": [
      "0: Fungal infection\n",
      "1: Allergy\n",
      "2: GERD\n",
      "3: Chronic cholestasis\n",
      "4: Drug Reaction\n",
      "5: Peptic ulcer diseae\n",
      "6: AIDS\n",
      "7: Diabetes \n",
      "8: Gastroenteritis\n",
      "9: Bronchial Asthma\n",
      "10: Hypertension \n",
      "11: Migraine\n",
      "12: Cervical spondylosis\n",
      "13: Paralysis (brain hemorrhage)\n",
      "14: Jaundice\n",
      "15: Malaria\n",
      "16: Chicken pox\n",
      "17: Dengue\n",
      "18: Typhoid\n",
      "19: hepatitis A\n",
      "20: Hepatitis B\n",
      "21: Hepatitis C\n",
      "22: Hepatitis D\n",
      "23: Hepatitis E\n",
      "24: Alcoholic hepatitis\n",
      "25: Tuberculosis\n",
      "26: Common Cold\n",
      "27: Pneumonia\n",
      "28: Dimorphic hemmorhoids(piles)\n",
      "29: Heart attack\n",
      "30: Varicose veins\n",
      "31: Hypothyroidism\n",
      "32: Hyperthyroidism\n",
      "33: Hypoglycemia\n",
      "34: Osteoarthristis\n",
      "35: Arthritis\n",
      "36: (vertigo) Paroymsal  Positional Vertigo\n",
      "37: Acne\n",
      "38: Urinary tract infection\n",
      "39: Psoriasis\n",
      "40: Impetigo\n",
      "41: Fungal infection\n"
     ]
    }
   ],
   "source": [
    "array_data = y_test_encoded.to_numpy()\n",
    "\n",
    "for index, row in enumerate(array_data):\n",
    "    column_name = y_test_encoded.columns[np.where(row == 1)[0][0]]\n",
    "    print(f\"{index}: {column_name}\")"
   ]
  },
  {
   "cell_type": "code",
   "execution_count": null,
   "id": "e3b79fef",
   "metadata": {
    "papermill": {
     "duration": 0.020915,
     "end_time": "2024-02-16T20:58:20.150824",
     "exception": false,
     "start_time": "2024-02-16T20:58:20.129909",
     "status": "completed"
    },
    "tags": []
   },
   "outputs": [],
   "source": []
  }
 ],
 "metadata": {
  "kaggle": {
   "accelerator": "none",
   "dataSources": [
    {
     "datasetId": 654897,
     "sourceId": 1157702,
     "sourceType": "datasetVersion"
    }
   ],
   "dockerImageVersionId": 30615,
   "isGpuEnabled": false,
   "isInternetEnabled": true,
   "language": "python",
   "sourceType": "notebook"
  },
  "kernelspec": {
   "display_name": "Python 3",
   "language": "python",
   "name": "python3"
  },
  "language_info": {
   "codemirror_mode": {
    "name": "ipython",
    "version": 3
   },
   "file_extension": ".py",
   "mimetype": "text/x-python",
   "name": "python",
   "nbconvert_exporter": "python",
   "pygments_lexer": "ipython3",
   "version": "3.10.12"
  },
  "papermill": {
   "default_parameters": {},
   "duration": 31.255425,
   "end_time": "2024-02-16T20:58:23.020576",
   "environment_variables": {},
   "exception": null,
   "input_path": "__notebook__.ipynb",
   "output_path": "__notebook__.ipynb",
   "parameters": {},
   "start_time": "2024-02-16T20:57:51.765151",
   "version": "2.4.0"
  }
 },
 "nbformat": 4,
 "nbformat_minor": 5
}
